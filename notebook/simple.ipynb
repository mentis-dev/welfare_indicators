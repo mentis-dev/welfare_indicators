{
 "cells": [
  {
   "cell_type": "code",
   "execution_count": 1,
   "id": "3f815d07-4654-4f8a-99d6-a1f4826699b5",
   "metadata": {},
   "outputs": [
    {
     "name": "stdout",
     "output_type": "stream",
     "text": [
      "/Users/mohamedmentis/.zshenv:.:1: no such file or directory: /Users/mohamedmentis/.cargo/env\n",
      "Collecting pandas\n",
      "  Obtaining dependency information for pandas from https://files.pythonhosted.org/packages/52/11/9eac327a38834f162b8250aab32a6781339c69afe7574368fffe46387edf/pandas-2.2.3-cp311-cp311-macosx_11_0_arm64.whl.metadata\n",
      "  Using cached pandas-2.2.3-cp311-cp311-macosx_11_0_arm64.whl.metadata (89 kB)\n",
      "Collecting numpy\n",
      "  Obtaining dependency information for numpy from https://files.pythonhosted.org/packages/47/7c/864cb966b96fce5e63fcf25e1e4d957fe5725a635e5f11fe03f39dd9d6b5/numpy-2.1.3-cp311-cp311-macosx_14_0_arm64.whl.metadata\n",
      "  Using cached numpy-2.1.3-cp311-cp311-macosx_14_0_arm64.whl.metadata (62 kB)\n",
      "Requirement already satisfied: python-dateutil>=2.8.2 in /Users/mohamedmentis/Dropbox/Mac (2)/Documents/Mentis/Development/Python/Wellfare_indicators/.venv/lib/python3.11/site-packages (from pandas) (2.9.0.post0)\n",
      "Collecting pytz>=2020.1 (from pandas)\n",
      "  Obtaining dependency information for pytz>=2020.1 from https://files.pythonhosted.org/packages/11/c3/005fcca25ce078d2cc29fd559379817424e94885510568bc1bc53d7d5846/pytz-2024.2-py2.py3-none-any.whl.metadata\n",
      "  Using cached pytz-2024.2-py2.py3-none-any.whl.metadata (22 kB)\n",
      "Collecting tzdata>=2022.7 (from pandas)\n",
      "  Obtaining dependency information for tzdata>=2022.7 from https://files.pythonhosted.org/packages/a6/ab/7e5f53c3b9d14972843a647d8d7a853969a58aecc7559cb3267302c94774/tzdata-2024.2-py2.py3-none-any.whl.metadata\n",
      "  Using cached tzdata-2024.2-py2.py3-none-any.whl.metadata (1.4 kB)\n",
      "Requirement already satisfied: six>=1.5 in /Users/mohamedmentis/Dropbox/Mac (2)/Documents/Mentis/Development/Python/Wellfare_indicators/.venv/lib/python3.11/site-packages (from python-dateutil>=2.8.2->pandas) (1.16.0)\n",
      "Using cached pandas-2.2.3-cp311-cp311-macosx_11_0_arm64.whl (11.3 MB)\n",
      "Downloading numpy-2.1.3-cp311-cp311-macosx_14_0_arm64.whl (5.4 MB)\n",
      "\u001b[2K   \u001b[90m━━━━━━━━━━━━━━━━━━━━━━━━━━━━━━━━━━━━━━━━\u001b[0m \u001b[32m5.4/5.4 MB\u001b[0m \u001b[31m40.5 MB/s\u001b[0m eta \u001b[36m0:00:00\u001b[0m00:01\u001b[0m00:01\u001b[0m\n",
      "\u001b[?25hUsing cached pytz-2024.2-py2.py3-none-any.whl (508 kB)\n",
      "Using cached tzdata-2024.2-py2.py3-none-any.whl (346 kB)\n",
      "Installing collected packages: pytz, tzdata, numpy, pandas\n",
      "Successfully installed numpy-2.1.3 pandas-2.2.3 pytz-2024.2 tzdata-2024.2\n",
      "\n",
      "\u001b[1m[\u001b[0m\u001b[34;49mnotice\u001b[0m\u001b[1;39;49m]\u001b[0m\u001b[39;49m A new release of pip is available: \u001b[0m\u001b[31;49m23.2.1\u001b[0m\u001b[39;49m -> \u001b[0m\u001b[32;49m24.3.1\u001b[0m\n",
      "\u001b[1m[\u001b[0m\u001b[34;49mnotice\u001b[0m\u001b[1;39;49m]\u001b[0m\u001b[39;49m To update, run: \u001b[0m\u001b[32;49mpip install --upgrade pip\u001b[0m\n"
     ]
    }
   ],
   "source": [
    "! pip install pandas numpy"
   ]
  },
  {
   "cell_type": "code",
   "execution_count": 2,
   "id": "c785b6e5-97bf-4e8e-90c9-99bbd209c362",
   "metadata": {},
   "outputs": [],
   "source": [
    "import pandas as pd"
   ]
  },
  {
   "cell_type": "code",
   "execution_count": 6,
   "id": "25da7498-29f2-4b74-898e-ea70be7c1354",
   "metadata": {},
   "outputs": [
    {
     "data": {
      "text/html": [
       "<div>\n",
       "<style scoped>\n",
       "    .dataframe tbody tr th:only-of-type {\n",
       "        vertical-align: middle;\n",
       "    }\n",
       "\n",
       "    .dataframe tbody tr th {\n",
       "        vertical-align: top;\n",
       "    }\n",
       "\n",
       "    .dataframe thead th {\n",
       "        text-align: right;\n",
       "    }\n",
       "</style>\n",
       "<table border=\"1\" class=\"dataframe\">\n",
       "  <thead>\n",
       "    <tr style=\"text-align: right;\">\n",
       "      <th></th>\n",
       "      <th>ID</th>\n",
       "      <th>Species</th>\n",
       "      <th>Animal_Class</th>\n",
       "      <th>Welfare_Hazards_Animal</th>\n",
       "      <th>Welfare_Hazards_Consequences</th>\n",
       "      <th>Welfare_Hazards_Impact</th>\n",
       "      <th>Ease_of_Hazard_Mitigation</th>\n",
       "      <th>Welfare_Indicator</th>\n",
       "      <th>Indicator_Ease</th>\n",
       "      <th>Indicator_Resources</th>\n",
       "    </tr>\n",
       "  </thead>\n",
       "  <tbody>\n",
       "    <tr>\n",
       "      <th>0</th>\n",
       "      <td>1</td>\n",
       "      <td>Dairy cows</td>\n",
       "      <td>Tie stalls</td>\n",
       "      <td>Pasture access</td>\n",
       "      <td>Gastro-enteric disorders</td>\n",
       "      <td>High</td>\n",
       "      <td>Moderate</td>\n",
       "      <td>Abdominal discomfort</td>\n",
       "      <td>Moderate</td>\n",
       "      <td>Low</td>\n",
       "    </tr>\n",
       "    <tr>\n",
       "      <th>1</th>\n",
       "      <td>1</td>\n",
       "      <td>Dairy cows</td>\n",
       "      <td>Cubicles</td>\n",
       "      <td>Pasture access</td>\n",
       "      <td>Gastro-enteric disorders</td>\n",
       "      <td>High</td>\n",
       "      <td>Moderate</td>\n",
       "      <td>Abdominal discomfort</td>\n",
       "      <td>Moderate</td>\n",
       "      <td>Low</td>\n",
       "    </tr>\n",
       "    <tr>\n",
       "      <th>2</th>\n",
       "      <td>2</td>\n",
       "      <td>Dairy cows</td>\n",
       "      <td>Tie stalls</td>\n",
       "      <td>Continuous housing for long periods</td>\n",
       "      <td>General disruption of behaviour</td>\n",
       "      <td>Low</td>\n",
       "      <td>Difficult</td>\n",
       "      <td>Agonistic behaviour</td>\n",
       "      <td>Moderate</td>\n",
       "      <td>Low</td>\n",
       "    </tr>\n",
       "    <tr>\n",
       "      <th>3</th>\n",
       "      <td>2</td>\n",
       "      <td>Dairy cows</td>\n",
       "      <td>Cubicles</td>\n",
       "      <td>Continuous housing for long periods</td>\n",
       "      <td>General disruption of behaviour</td>\n",
       "      <td>Low</td>\n",
       "      <td>Difficult</td>\n",
       "      <td>Agonistic behaviour</td>\n",
       "      <td>Moderate</td>\n",
       "      <td>Low</td>\n",
       "    </tr>\n",
       "    <tr>\n",
       "      <th>4</th>\n",
       "      <td>3</td>\n",
       "      <td>Dairy cows</td>\n",
       "      <td>Tie stalls</td>\n",
       "      <td>Insufficient space</td>\n",
       "      <td>Restriction of movement</td>\n",
       "      <td>High</td>\n",
       "      <td>Moderate</td>\n",
       "      <td>Agonistic interactions</td>\n",
       "      <td>Moderate</td>\n",
       "      <td>Medium</td>\n",
       "    </tr>\n",
       "  </tbody>\n",
       "</table>\n",
       "</div>"
      ],
      "text/plain": [
       "   ID     Species Animal_Class               Welfare_Hazards_Animal  \\\n",
       "0   1  Dairy cows   Tie stalls                       Pasture access   \n",
       "1   1  Dairy cows     Cubicles                       Pasture access   \n",
       "2   2  Dairy cows   Tie stalls  Continuous housing for long periods   \n",
       "3   2  Dairy cows     Cubicles  Continuous housing for long periods   \n",
       "4   3  Dairy cows   Tie stalls                   Insufficient space   \n",
       "\n",
       "      Welfare_Hazards_Consequences Welfare_Hazards_Impact  \\\n",
       "0         Gastro-enteric disorders                   High   \n",
       "1         Gastro-enteric disorders                   High   \n",
       "2  General disruption of behaviour                    Low   \n",
       "3  General disruption of behaviour                    Low   \n",
       "4          Restriction of movement                   High   \n",
       "\n",
       "  Ease_of_Hazard_Mitigation       Welfare_Indicator Indicator_Ease  \\\n",
       "0                  Moderate    Abdominal discomfort       Moderate   \n",
       "1                  Moderate    Abdominal discomfort       Moderate   \n",
       "2                 Difficult     Agonistic behaviour       Moderate   \n",
       "3                 Difficult     Agonistic behaviour       Moderate   \n",
       "4                  Moderate  Agonistic interactions       Moderate   \n",
       "\n",
       "  Indicator_Resources  \n",
       "0                 Low  \n",
       "1                 Low  \n",
       "2                 Low  \n",
       "3                 Low  \n",
       "4              Medium  "
      ]
     },
     "execution_count": 6,
     "metadata": {},
     "output_type": "execute_result"
    }
   ],
   "source": [
    "df=pd.read_csv(\"../data/dairy_cows.csv\")\n",
    "df.head()"
   ]
  },
  {
   "cell_type": "code",
   "execution_count": 7,
   "id": "ac18945b-a8ca-4eab-b5e9-1efd451d4acd",
   "metadata": {},
   "outputs": [],
   "source": [
    "categorical_columns = ['Species', 'Animal_Class', 'Welfare_Hazards_Animal',\n",
    "                       'Welfare_Hazards_Consequences', 'Welfare_Hazards_Impact',\n",
    "                       'Ease_of_Hazard_Mitigation', 'Welfare_Indicator',\n",
    "                       'Indicator_Ease', 'Indicator_Resources']\n",
    "for col in categorical_columns:\n",
    "    df[col] = df[col].astype(str).str.strip()\n"
   ]
  },
  {
   "cell_type": "code",
   "execution_count": 8,
   "id": "eedb134a-e138-4df0-aa89-6d5490b8c746",
   "metadata": {},
   "outputs": [],
   "source": [
    "unique_hazards = df['Welfare_Hazards_Animal'].unique()\n",
    "unique_consequences = df['Welfare_Hazards_Consequences'].unique()"
   ]
  },
  {
   "cell_type": "code",
   "execution_count": 10,
   "id": "581aa634-0214-4c57-9a67-fffd1233385e",
   "metadata": {},
   "outputs": [
    {
     "data": {
      "text/plain": [
       "22"
      ]
     },
     "execution_count": 10,
     "metadata": {},
     "output_type": "execute_result"
    }
   ],
   "source": [
    "len(unique_consequences)"
   ]
  },
  {
   "cell_type": "code",
   "execution_count": 11,
   "id": "aa8244f5-ab6f-46b2-a020-0170c456e960",
   "metadata": {},
   "outputs": [
    {
     "data": {
      "text/plain": [
       "45"
      ]
     },
     "execution_count": 11,
     "metadata": {},
     "output_type": "execute_result"
    }
   ],
   "source": [
    "len(unique_hazards)"
   ]
  },
  {
   "cell_type": "code",
   "execution_count": 14,
   "id": "5d545605-cca8-4b16-ba7f-dd8558ef7651",
   "metadata": {},
   "outputs": [],
   "source": [
    "indicator_hazard_map = {}\n",
    "indicator_consequence_map = {}\n",
    "\n",
    "for index, row in df.iterrows():\n",
    "    indicator = row['Welfare_Indicator']\n",
    "    hazard = row['Welfare_Hazards_Animal']\n",
    "    consequence = row['Welfare_Hazards_Consequences']\n",
    "    \n",
    "    if indicator not in indicator_hazard_map:\n",
    "        indicator_hazard_map[indicator] = set()\n",
    "    indicator_hazard_map[indicator].add(hazard)\n",
    "    \n",
    "    if indicator not in indicator_consequence_map:\n",
    "        indicator_consequence_map[indicator] = set()\n",
    "    indicator_consequence_map[indicator].add(consequence)"
   ]
  },
  {
   "cell_type": "code",
   "execution_count": 20,
   "id": "cfbfbd27-5951-4142-b424-44fe30d9f1f0",
   "metadata": {},
   "outputs": [
    {
     "data": {
      "text/plain": [
       "{'Cold stress',\n",
       " 'Environmental stress',\n",
       " 'Group (social) stress',\n",
       " 'Handling stress',\n",
       " 'Heat stress',\n",
       " 'Inability to chew and/or ruminate',\n",
       " 'Isolation stress',\n",
       " 'Separation stress'}"
      ]
     },
     "execution_count": 20,
     "metadata": {},
     "output_type": "execute_result"
    }
   ],
   "source": [
    "indicator_consequence_map['Physiological stress indicators']"
   ]
  },
  {
   "cell_type": "code",
   "execution_count": 19,
   "id": "af1bf9fb-e855-436b-be27-431467882803",
   "metadata": {},
   "outputs": [
    {
     "data": {
      "text/plain": [
       "54"
      ]
     },
     "execution_count": 19,
     "metadata": {},
     "output_type": "execute_result"
    }
   ],
   "source": [
    "len(indicator_consequence_map)"
   ]
  },
  {
   "cell_type": "code",
   "execution_count": 23,
   "id": "9baed6db-adf9-4c69-8e35-6b989e088d73",
   "metadata": {},
   "outputs": [
    {
     "name": "stdout",
     "output_type": "stream",
     "text": [
      "28\n"
     ]
    },
    {
     "data": {
      "text/plain": [
       "{'Being tied up temporarily',\n",
       " 'Being tied without exercise for long periods',\n",
       " 'Continuous housing for long periods',\n",
       " 'Early separation of cow and calf',\n",
       " 'Early separation of cow and calf (after 24h)',\n",
       " 'Excessive noise (constant or sudden)',\n",
       " 'Fewer cubicles than cows',\n",
       " 'Inadequate bedding (cubicle/stall floor)',\n",
       " 'Inadequate design of waiting area (size, flooring, crowding gates)',\n",
       " 'Inadequate flooring in passageways, feeding and milking areas',\n",
       " 'Inadequate maintenance of milking equipment',\n",
       " 'Inadequate milking equipment',\n",
       " 'Inadequate milking parlour design',\n",
       " 'Inadequate milking robot design',\n",
       " 'Insufficient access to water (broken system, poor management)',\n",
       " 'Insufficient access to water (inappropriate system design)',\n",
       " 'Insufficient protection from weather',\n",
       " 'Lack of facilities for sick animals',\n",
       " 'Lack of handling/restraining facilities',\n",
       " 'Lack of space for exercise and social interactions',\n",
       " 'Mixing animals from different groups',\n",
       " 'Poor calving conditions (absence of pen)',\n",
       " 'Poor calving conditions (pen design)',\n",
       " 'Poor calving conditions (unable to separate from other animals)',\n",
       " 'Poor cubicle design',\n",
       " 'Poor stall design / stall too small',\n",
       " 'Too few feeding places indoors',\n",
       " 'Use of cow trainers'}"
      ]
     },
     "execution_count": 23,
     "metadata": {},
     "output_type": "execute_result"
    }
   ],
   "source": [
    "print(len(indicator_hazard_map['Physiological stress indicators']))\n",
    "indicator_hazard_map['Physiological stress indicators']"
   ]
  },
  {
   "cell_type": "code",
   "execution_count": 24,
   "id": "18ef24e8-d81f-4f97-a3c8-47e0a5be3fbe",
   "metadata": {},
   "outputs": [],
   "source": [
    "indicator_coverage_map = {}\n",
    "for indicator in indicator_hazard_map:\n",
    "    coverage = set()\n",
    "    coverage.update(indicator_hazard_map[indicator])\n",
    "    coverage.update(indicator_consequence_map[indicator])\n",
    "    indicator_coverage_map[indicator] = coverage\n"
   ]
  },
  {
   "cell_type": "code",
   "execution_count": 25,
   "id": "23ebfcb8-ecd1-475c-9dcb-ef407255b531",
   "metadata": {},
   "outputs": [
    {
     "name": "stdout",
     "output_type": "stream",
     "text": [
      "\n",
      "Indicator Coverage Mapping:\n",
      "Abdominal discomfort: {'Gastro-enteric disorders', 'Pasture access'}\n",
      "Agonistic behaviour: {'General disruption of behaviour', 'Continuous housing for long periods'}\n",
      "Agonistic interactions: {'Restriction of movement', 'Insufficient space'}\n",
      "Allo-grooming: {'Inability to perform comfort behaviour', 'Inadequate flooring in passageways, feeding and milking areas'}\n",
      "Altered resting posture: {'Resting problems', 'Continuous housing for long periods'}\n",
      "Amount of eye white: {'Early separation of cow and calf', 'Early separation of cow and calf (after 24h)', 'Separation stress'}\n",
      "Body condition scoring: {'Prolonged hunger', 'Poor quality feed (low nutritive value)', 'Underfeeding', 'Poor pasture quality', 'Poor quality feed (pathogens/toxins)'}\n",
      "Brush use: {'Inability to perform comfort behaviour', 'Inadequate flooring in passageways, feeding and milking areas'}\n",
      "Calving behaviour (difficult/long calving): {'Reproductive disorders', 'Poor calving conditions (pen design)'}\n",
      "Calving records (death of cow): {'Delayed calving intervention', 'Mortality', 'Difficulty calving because of the sire', 'Poor calving conditions (calving management)'}\n",
      "Calving records (difficulty calving): {'Reproductive disorders', 'Poor calving conditions (pen design)'}\n",
      "Calving records (duration of calving): {'Reproductive disorders', 'Poor calving conditions (pen design)'}\n",
      "Coat condiition / cleanliness: {'Skin disorders (other than soft tissue lesions and integument damage)', 'Being tied up temporarily', 'Inadequate flooring in passageways, feeding and milking areas'}\n",
      "Cow Pain Scale (attention towards surroundings, head position, ear position, facial expression, response to approach, back position, lameness): {'Handling stress', 'Poor cubicle design', 'Poor calving conditions (unable to separate from other animals)', 'Inadequate design of waiting area (size, flooring, crowding gates)', 'Restriction of movement', 'Environmental stress', 'Inadequate maintenance of milking equipment', 'Reproductive disorders', 'Use of cow trainers', 'Group (social) stress', 'Mixing animals from different groups', 'Soft tissue lesions and integument damage', 'Lack of handling/restraining facilities', 'Being tied up temporarily', 'Poor calving conditions (pen design)', 'Poor calving conditions (absence of pen)', 'Tie stall collar (too tight)', 'Inadequate bedding (cubicle/stall floor)', 'Poor stall design / stall too small', 'Inadequate milking parlour design'}\n",
      "Deviation from normal, uninterrupted getting up movement: {'Resting problems', 'Insufficient space'}\n",
      "Disease: {'Environmental stress', 'Poor cubicle design'}\n",
      "Distended udder: {'Milking robot not used by cow', 'Soft tissue lesions and integument damage', 'Milking robot breakdown'}\n",
      "Duration of lying down movement: {'Resting problems', 'Insufficient space'}\n",
      "Frequency of lying bouts: {'Resting problems', 'Insufficient space'}\n",
      "Gait assessment: {'Mixing animals from different groups', 'Soft tissue lesions and integument damage', 'Continuous housing for long periods', 'Locomotor disorders (including lameness)', 'Lack of space for exercise and social interactions', 'Being tied without exercise for long periods', 'Inadequate flooring in passageways, feeding and milking areas', 'Fewer cubicles than cows', 'Inadequate maintenance of housing'}\n",
      "Hock alterations: {'Mixing animals from different groups', 'Fewer cubicles than cows', 'Continuous housing for long periods', 'Locomotor disorders (including lameness)', 'Lack of space for exercise and social interactions', 'Being tied without exercise for long periods', 'Inadequate maintenance of housing', 'Inadequate flooring in passageways, feeding and milking areas'}\n",
      "Hot, red, painful udder: {'Early separation of cow and calf', 'Inadequate milking equipment', 'Inadequate milking robot design', 'Continuous housing for long periods', 'Inadequate milking parlour design', 'Mastitis'}\n",
      "Huddling: {'Insufficient protection from weather', 'Cold stress', 'Lack of facilities for sick animals', 'Inadequate bedding (cubicle/stall floor)', 'Inadequate maintenance of housing'}\n",
      "Impaired calving behavour: {'Reproductive disorders', 'Poor calving conditions (pen design)', 'Poor calving conditions (unable to separate from other animals)', 'Poor calving conditions (absence of pen)'}\n",
      "Impaired maintenance behaviour: {'Being tied up temporarily', 'Inability to perform comfort behaviour', 'Inadequate flooring in passageways, feeding and milking areas'}\n",
      "Impaired social behaviour: {'Mixing animals from different groups', 'General disruption of behaviour', 'Lack of space for exercise and social interactions', 'Inadequate flooring in passageways, feeding and milking areas'}\n",
      "Increased standing: {'Insufficient protection from weather', 'Inadequate maintenance of housing', 'Heat stress'}\n",
      "Injuries: {'Mixing animals from different groups', 'Poor cubicle design', 'Bone lesions (incl. fractures and dislocations)', 'Soft tissue lesions and integument damage', 'Poor calving conditions (pen design)', 'Lack of space for exercise and social interactions', 'Too few feeding places', 'Inadequate flooring in passageways, feeding and milking areas', 'Poor stall design / stall too small', 'Inadequate maintenance of housing'}\n",
      "Knee alterations: {'Mixing animals from different groups', 'Fewer cubicles than cows', 'Continuous housing for long periods', 'Locomotor disorders (including lameness)', 'Lack of space for exercise and social interactions', 'Being tied without exercise for long periods', 'Inadequate maintenance of housing', 'Inadequate flooring in passageways, feeding and milking areas'}\n",
      "Lesions of the claw: {'Mixing animals from different groups', 'Soft tissue lesions and integument damage', 'Locomotor disorders (including lameness)', 'Inadequate flooring in passageways, feeding and milking areas'}\n",
      "Locomotory behaviour (restricted movement): {'Tie stall collar (too tight)', 'Restriction of movement'}\n",
      "Lying behaviour synchronisation: {'Resting problems', 'Insufficient space'}\n",
      "Lying time: {'Resting problems', 'Insufficient space'}\n",
      "Metabolic disorders: {'Inadequate housing design', 'Metabolic disorders', 'Being tied without exercise for long periods', 'Inadequate maintenance of housing'}\n",
      "Milk somatic cell count (bulk or individual): {'Early separation of cow and calf', 'Inadequate milking equipment', 'Inadequate milking robot design', 'Continuous housing for long periods', 'Inadequate milking parlour design', 'Mastitis'}\n",
      "Neck injuries: {'Soft tissue lesions and integument damage', 'Tie stall collar (injury)'}\n",
      "Physiological stress indicators: {'Inadequate milking equipment', 'Early separation of cow and calf', 'Insufficient protection from weather', 'Poor cubicle design', 'Handling stress', 'Poor calving conditions (unable to separate from other animals)', 'Too few feeding places indoors', 'Inadequate design of waiting area (size, flooring, crowding gates)', 'Excessive noise (constant or sudden)', 'Lack of space for exercise and social interactions', 'Being tied without exercise for long periods', 'Inability to chew and/or ruminate', 'Inadequate flooring in passageways, feeding and milking areas', 'Fewer cubicles than cows', 'Early separation of cow and calf (after 24h)', 'Inadequate maintenance of milking equipment', 'Heat stress', 'Environmental stress', 'Use of cow trainers', 'Lack of facilities for sick animals', 'Group (social) stress', 'Inadequate milking robot design', 'Mixing animals from different groups', 'Insufficient access to water (inappropriate system design)', 'Lack of handling/restraining facilities', 'Being tied up temporarily', 'Poor calving conditions (pen design)', 'Insufficient access to water (broken system, poor management)', 'Continuous housing for long periods', 'Poor calving conditions (absence of pen)', 'Inadequate bedding (cubicle/stall floor)', 'Separation stress', 'Cold stress', 'Poor stall design / stall too small', 'Isolation stress', 'Inadequate milking parlour design'}\n",
      "Reproductive disorders: {'Mixing animals from different groups', 'Reproductive disorders'}\n",
      "Respiratory rate and panting: {'Insufficient protection from weather', 'Inadequate maintenance of housing', 'Heat stress'}\n",
      "Self-grooming: {'Being tied up temporarily', 'Inability to perform comfort behaviour', 'Inadequate flooring in passageways, feeding and milking areas'}\n",
      "Shivering: {'Insufficient protection from weather', 'Cold stress', 'Lack of facilities for sick animals', 'Inadequate bedding (cubicle/stall floor)', 'Inadequate maintenance of housing'}\n",
      "Speed: {'Restriction of movement', 'Insufficient space'}\n",
      "Step activity: {'Restriction of movement', 'Insufficient space'}\n",
      "Sunburn injury: {'Insufficient protection from weather', 'Soft tissue lesions and integument damage'}\n",
      "Teat disorders: {'Inadequate milking equipment', 'Soft tissue lesions and integument damage'}\n",
      "Time budgets (disruption of behaviour): {'Inadequate milking robot design', 'Poor cubicle design', 'Insufficient access to water (inappropriate system design)', 'Lack of handling/restraining facilities', 'Poor calving conditions (pen design)', 'Continuous housing for long periods', 'Insufficient access to water (broken system, poor management)', 'Poor calving conditions (absence of pen)', 'Poor calving conditions (unable to separate from other animals)', 'Inadequate design of waiting area (size, flooring, crowding gates)', 'Inadequate bedding (cubicle/stall floor)', 'General disruption of behaviour', 'Fewer cubicles than cows', 'Poor stall design / stall too small', 'Inadequate milking parlour design', 'Use of cow trainers'}\n",
      "Time budgets (increased standing, decreased lying): {'Insufficient protection from weather', 'General disruption of behaviour'}\n",
      "Time budgets (lack of rest): {'Poor cubicle design', 'Resting problems', 'Fewer cubicles than cows', 'Continuous housing for long periods', 'Poor stall design / stall too small', 'Inadequate bedding (cubicle/stall floor)', 'Lack of facilities for sick animals', 'Inadequate maintenance of housing'}\n",
      "Time budgets (prevention of behaviour): {'Inadequate milking robot design', 'Poor cubicle design', 'Lack of handling/restraining facilities', 'General disruption of behaviour', 'Continuous housing for long periods', 'Inadequate design of waiting area (size, flooring, crowding gates)', 'Inadequate bedding (cubicle/stall floor)', 'Poor stall design / stall too small', 'Inadequate milking parlour design'}\n",
      "Time budgets (reduced behavioural repertoire): {'General disruption of behaviour', 'Lack of environmental enrichment'}\n",
      "Time spent looking out of pen: {'Early separation of cow and calf', 'Early separation of cow and calf (after 24h)', 'Separation stress'}\n",
      "Vocalisations: {'Early separation of cow and calf', 'Early separation of cow and calf (after 24h)', 'Separation stress'}\n",
      "Walking distance: {'Restriction of movement', 'Insufficient space'}\n",
      "Weight loss (adults) or restricted weight gain (calves): {'Gastro-enteric disorders', 'Pasture access'}\n"
     ]
    }
   ],
   "source": [
    "# Display the mapping\n",
    "print(\"\\nIndicator Coverage Mapping:\")\n",
    "for indicator, coverage in indicator_coverage_map.items():\n",
    "    print(f\"{indicator}: {coverage}\")"
   ]
  },
  {
   "cell_type": "code",
   "execution_count": 27,
   "id": "e3f94f23-e1a6-4d58-8477-1bb948f17053",
   "metadata": {},
   "outputs": [
    {
     "name": "stdout",
     "output_type": "stream",
     "text": [
      "36\n"
     ]
    }
   ],
   "source": [
    "print(len(indicator_coverage_map['Physiological stress indicators']))"
   ]
  },
  {
   "cell_type": "code",
   "execution_count": 28,
   "id": "3555f855-0ba3-4015-bffa-f0b9b53d61d6",
   "metadata": {},
   "outputs": [],
   "source": [
    "all_hazards = set(unique_hazards)\n",
    "all_consequences = set(unique_consequences)\n",
    "all_coverage = all_hazards.union(all_consequences)"
   ]
  },
  {
   "cell_type": "code",
   "execution_count": 29,
   "id": "a86acfff-b188-456d-b2b9-f2d20f83d62e",
   "metadata": {},
   "outputs": [
    {
     "name": "stdout",
     "output_type": "stream",
     "text": [
      "Selected Indicator: Physiological stress indicators covering 36 new elements.\n",
      "Selected Indicator: Body condition scoring covering 5 new elements.\n",
      "Selected Indicator: Calving records (death of cow) covering 4 new elements.\n",
      "Selected Indicator: Cow Pain Scale (attention towards surroundings, head position, ear position, facial expression, response to approach, back position, lameness) covering 4 new elements.\n"
     ]
    }
   ],
   "source": [
    "selected_indicators = set()\n",
    "covered = set()\n",
    "\n",
    "# Make a copy of indicator_coverage_map to manipulate\n",
    "coverage_map = indicator_coverage_map.copy()\n",
    "\n",
    "for _ in range(4):\n",
    "    # Select the indicator that covers the most uncovered elements\n",
    "    best_indicator = None\n",
    "    best_coverage = set()\n",
    "    for indicator, coverage in coverage_map.items():\n",
    "        new_coverage = coverage - covered\n",
    "        if len(new_coverage) > len(best_coverage):\n",
    "            best_coverage = new_coverage\n",
    "            best_indicator = indicator\n",
    "    if best_indicator is None:\n",
    "        break\n",
    "    selected_indicators.add(best_indicator)\n",
    "    covered.update(best_coverage)\n",
    "    # Remove the selected indicator from consideration\n",
    "    del coverage_map[best_indicator]\n",
    "    print(f\"Selected Indicator: {best_indicator} covering {len(best_coverage)} new elements.\")\n"
   ]
  },
  {
   "cell_type": "code",
   "execution_count": 30,
   "id": "109da5f5-648e-4d74-b62b-8711df967ce4",
   "metadata": {},
   "outputs": [
    {
     "name": "stdout",
     "output_type": "stream",
     "text": [
      "\n",
      "Selected Indicators:\n",
      "- Physiological stress indicators\n",
      "- Body condition scoring\n",
      "- Calving records (death of cow)\n",
      "- Cow Pain Scale (attention towards surroundings, head position, ear position, facial expression, response to approach, back position, lameness)\n"
     ]
    }
   ],
   "source": [
    "# Display the selected indicators\n",
    "print(\"\\nSelected Indicators:\")\n",
    "for indicator in selected_indicators:\n",
    "    print(f\"- {indicator}\")"
   ]
  },
  {
   "cell_type": "code",
   "execution_count": 31,
   "id": "de8d66c6-e306-4208-8927-66858acd0337",
   "metadata": {},
   "outputs": [],
   "source": [
    "# Calculate total coverage\n",
    "total_covered = set()\n",
    "for indicator in selected_indicators:\n",
    "    total_covered.update(indicator_coverage_map[indicator])"
   ]
  },
  {
   "cell_type": "code",
   "execution_count": 32,
   "id": "0a7928fc-1d25-4963-9f2d-fefa8a1b4149",
   "metadata": {},
   "outputs": [
    {
     "name": "stdout",
     "output_type": "stream",
     "text": [
      "\n",
      "Total Coverage (49 out of 67):\n",
      "{'Inadequate milking equipment', 'Poor calving conditions (unable to separate from other animals)', 'Too few feeding places indoors', 'Inadequate design of waiting area (size, flooring, crowding gates)', 'Poor pasture quality', 'Being tied without exercise for long periods', 'Early separation of cow and calf (after 24h)', 'Environmental stress', 'Use of cow trainers', 'Inadequate milking robot design', 'Mixing animals from different groups', 'Being tied up temporarily', 'Poor calving conditions (pen design)', 'Insufficient access to water (broken system, poor management)', 'Inadequate bedding (cubicle/stall floor)', 'Separation stress', 'Isolation stress', 'Inadequate milking parlour design', 'Poor calving conditions (calving management)', 'Early separation of cow and calf', 'Insufficient protection from weather', 'Poor cubicle design', 'Handling stress', 'Poor stall design / stall too small', 'Delayed calving intervention', 'Excessive noise (constant or sudden)', 'Lack of space for exercise and social interactions', 'Inability to chew and/or ruminate', 'Restriction of movement', 'Inadequate flooring in passageways, feeding and milking areas', 'Fewer cubicles than cows', 'Underfeeding', 'Inadequate maintenance of milking equipment', 'Mortality', 'Reproductive disorders', 'Lack of facilities for sick animals', 'Group (social) stress', 'Difficulty calving because of the sire', 'Soft tissue lesions and integument damage', 'Insufficient access to water (inappropriate system design)', 'Lack of handling/restraining facilities', 'Continuous housing for long periods', 'Poor calving conditions (absence of pen)', 'Tie stall collar (too tight)', 'Poor quality feed (pathogens/toxins)', 'Prolonged hunger', 'Poor quality feed (low nutritive value)', 'Cold stress', 'Heat stress'}\n"
     ]
    }
   ],
   "source": [
    "print(f\"\\nTotal Coverage ({len(total_covered)} out of {len(all_coverage)}):\")\n",
    "print(total_covered)"
   ]
  },
  {
   "cell_type": "code",
   "execution_count": 33,
   "id": "3478505d-af2d-45b6-abed-1aca89c10caa",
   "metadata": {},
   "outputs": [
    {
     "name": "stdout",
     "output_type": "stream",
     "text": [
      "\n",
      "Uncovered Hazards and Consequences (18):\n",
      "{'Inability to perform comfort behaviour', 'General disruption of behaviour', 'Bone lesions (incl. fractures and dislocations)', 'Inadequate housing design', 'Milking robot not used by cow', 'Locomotor disorders (including lameness)', 'Skin disorders (other than soft tissue lesions and integument damage)', 'Milking robot breakdown', 'Too few feeding places', 'Pasture access', 'Metabolic disorders', 'Resting problems', 'Insufficient space', 'Lack of environmental enrichment', 'Gastro-enteric disorders', 'Mastitis', 'Tie stall collar (injury)', 'Inadequate maintenance of housing'}\n"
     ]
    }
   ],
   "source": [
    "uncovered = all_coverage - total_covered\n",
    "print(f\"\\nUncovered Hazards and Consequences ({len(uncovered)}):\")\n",
    "print(uncovered)"
   ]
  },
  {
   "cell_type": "code",
   "execution_count": 34,
   "id": "0e05d0da-f1a3-4105-8b5b-4a39d55d0a44",
   "metadata": {},
   "outputs": [
    {
     "name": "stdout",
     "output_type": "stream",
     "text": [
      "\n",
      "Indicator: Physiological stress indicators\n",
      "  Hazards: {'Inadequate milking equipment', 'Poor calving conditions (unable to separate from other animals)', 'Too few feeding places indoors', 'Inadequate design of waiting area (size, flooring, crowding gates)', 'Being tied without exercise for long periods', 'Early separation of cow and calf (after 24h)', 'Use of cow trainers', 'Inadequate milking robot design', 'Mixing animals from different groups', 'Being tied up temporarily', 'Poor calving conditions (pen design)', 'Insufficient access to water (broken system, poor management)', 'Inadequate bedding (cubicle/stall floor)', 'Inadequate milking parlour design', 'Early separation of cow and calf', 'Insufficient protection from weather', 'Poor cubicle design', 'Excessive noise (constant or sudden)', 'Lack of space for exercise and social interactions', 'Inadequate flooring in passageways, feeding and milking areas', 'Fewer cubicles than cows', 'Inadequate maintenance of milking equipment', 'Lack of facilities for sick animals', 'Insufficient access to water (inappropriate system design)', 'Lack of handling/restraining facilities', 'Continuous housing for long periods', 'Poor calving conditions (absence of pen)', 'Poor stall design / stall too small'}\n",
      "  Consequences: {'Handling stress', 'Separation stress', 'Inability to chew and/or ruminate', 'Cold stress', 'Heat stress', 'Isolation stress', 'Environmental stress', 'Group (social) stress'}\n",
      "\n",
      "Indicator: Body condition scoring\n",
      "  Hazards: {'Underfeeding', 'Poor pasture quality', 'Poor quality feed (low nutritive value)', 'Poor quality feed (pathogens/toxins)'}\n",
      "  Consequences: {'Prolonged hunger'}\n",
      "\n",
      "Indicator: Calving records (death of cow)\n",
      "  Hazards: {'Delayed calving intervention', 'Difficulty calving because of the sire', 'Poor calving conditions (calving management)'}\n",
      "  Consequences: {'Mortality'}\n",
      "\n",
      "Indicator: Cow Pain Scale (attention towards surroundings, head position, ear position, facial expression, response to approach, back position, lameness)\n",
      "  Hazards: {'Mixing animals from different groups', 'Poor cubicle design', 'Lack of handling/restraining facilities', 'Being tied up temporarily', 'Poor calving conditions (unable to separate from other animals)', 'Poor calving conditions (absence of pen)', 'Poor calving conditions (pen design)', 'Tie stall collar (too tight)', 'Inadequate design of waiting area (size, flooring, crowding gates)', 'Inadequate bedding (cubicle/stall floor)', 'Poor stall design / stall too small', 'Inadequate milking parlour design', 'Inadequate maintenance of milking equipment', 'Use of cow trainers'}\n",
      "  Consequences: {'Handling stress', 'Soft tissue lesions and integument damage', 'Restriction of movement', 'Environmental stress', 'Reproductive disorders', 'Group (social) stress'}\n"
     ]
    }
   ],
   "source": [
    "for indicator in selected_indicators:\n",
    "    hazards = indicator_hazard_map.get(indicator, set())\n",
    "    consequences = indicator_consequence_map.get(indicator, set())\n",
    "    print(f\"\\nIndicator: {indicator}\")\n",
    "    print(f\"  Hazards: {hazards}\")\n",
    "    print(f\"  Consequences: {consequences}\")"
   ]
  },
  {
   "cell_type": "code",
   "execution_count": 35,
   "id": "fbbc651b-0331-47bc-b287-ba933e90a032",
   "metadata": {},
   "outputs": [
    {
     "name": "stdout",
     "output_type": "stream",
     "text": [
      "\n",
      "Summary:\n",
      "Number of Indicators Selected: 4\n",
      "Indicators: Physiological stress indicators, Body condition scoring, Calving records (death of cow), Cow Pain Scale (attention towards surroundings, head position, ear position, facial expression, response to approach, back position, lameness)\n",
      "Total Hazards and Consequences Covered: 49\n",
      "Percentage Covered: 73.13%\n"
     ]
    }
   ],
   "source": [
    "print(\"\\nSummary:\")\n",
    "print(f\"Number of Indicators Selected: {len(selected_indicators)}\")\n",
    "print(f\"Indicators: {', '.join(selected_indicators)}\")\n",
    "print(f\"Total Hazards and Consequences Covered: {len(total_covered)}\")\n",
    "print(f\"Percentage Covered: {len(total_covered)/len(all_coverage)*100:.2f}%\")"
   ]
  },
  {
   "cell_type": "code",
   "execution_count": null,
   "id": "80e04e9a-bd08-4fe0-8597-a7b8f5541dd1",
   "metadata": {},
   "outputs": [],
   "source": []
  }
 ],
 "metadata": {
  "kernelspec": {
   "display_name": "Python 3 (ipykernel)",
   "language": "python",
   "name": "python3"
  },
  "language_info": {
   "codemirror_mode": {
    "name": "ipython",
    "version": 3
   },
   "file_extension": ".py",
   "mimetype": "text/x-python",
   "name": "python",
   "nbconvert_exporter": "python",
   "pygments_lexer": "ipython3",
   "version": "3.11.8"
  }
 },
 "nbformat": 4,
 "nbformat_minor": 5
}
