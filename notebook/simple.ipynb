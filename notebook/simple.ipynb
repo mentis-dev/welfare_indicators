{
 "cells": [
  {
   "cell_type": "code",
   "execution_count": 1,
   "id": "3f815d07-4654-4f8a-99d6-a1f4826699b5",
   "metadata": {},
   "outputs": [
    {
     "name": "stdout",
     "output_type": "stream",
     "text": [
      "/Users/mohamedmentis/.zshenv:.:1: no such file or directory: /Users/mohamedmentis/.cargo/env\n",
      "Collecting pandas\n",
      "  Obtaining dependency information for pandas from https://files.pythonhosted.org/packages/52/11/9eac327a38834f162b8250aab32a6781339c69afe7574368fffe46387edf/pandas-2.2.3-cp311-cp311-macosx_11_0_arm64.whl.metadata\n",
      "  Using cached pandas-2.2.3-cp311-cp311-macosx_11_0_arm64.whl.metadata (89 kB)\n",
      "Collecting numpy\n",
      "  Obtaining dependency information for numpy from https://files.pythonhosted.org/packages/47/7c/864cb966b96fce5e63fcf25e1e4d957fe5725a635e5f11fe03f39dd9d6b5/numpy-2.1.3-cp311-cp311-macosx_14_0_arm64.whl.metadata\n",
      "  Using cached numpy-2.1.3-cp311-cp311-macosx_14_0_arm64.whl.metadata (62 kB)\n",
      "Requirement already satisfied: python-dateutil>=2.8.2 in /Users/mohamedmentis/Dropbox/Mac (2)/Documents/Mentis/Development/Python/Wellfare_indicators/.venv/lib/python3.11/site-packages (from pandas) (2.9.0.post0)\n",
      "Collecting pytz>=2020.1 (from pandas)\n",
      "  Obtaining dependency information for pytz>=2020.1 from https://files.pythonhosted.org/packages/11/c3/005fcca25ce078d2cc29fd559379817424e94885510568bc1bc53d7d5846/pytz-2024.2-py2.py3-none-any.whl.metadata\n",
      "  Using cached pytz-2024.2-py2.py3-none-any.whl.metadata (22 kB)\n",
      "Collecting tzdata>=2022.7 (from pandas)\n",
      "  Obtaining dependency information for tzdata>=2022.7 from https://files.pythonhosted.org/packages/a6/ab/7e5f53c3b9d14972843a647d8d7a853969a58aecc7559cb3267302c94774/tzdata-2024.2-py2.py3-none-any.whl.metadata\n",
      "  Using cached tzdata-2024.2-py2.py3-none-any.whl.metadata (1.4 kB)\n",
      "Requirement already satisfied: six>=1.5 in /Users/mohamedmentis/Dropbox/Mac (2)/Documents/Mentis/Development/Python/Wellfare_indicators/.venv/lib/python3.11/site-packages (from python-dateutil>=2.8.2->pandas) (1.16.0)\n",
      "Using cached pandas-2.2.3-cp311-cp311-macosx_11_0_arm64.whl (11.3 MB)\n",
      "Downloading numpy-2.1.3-cp311-cp311-macosx_14_0_arm64.whl (5.4 MB)\n",
      "\u001b[2K   \u001b[90m━━━━━━━━━━━━━━━━━━━━━━━━━━━━━━━━━━━━━━━━\u001b[0m \u001b[32m5.4/5.4 MB\u001b[0m \u001b[31m40.5 MB/s\u001b[0m eta \u001b[36m0:00:00\u001b[0m00:01\u001b[0m00:01\u001b[0m\n",
      "\u001b[?25hUsing cached pytz-2024.2-py2.py3-none-any.whl (508 kB)\n",
      "Using cached tzdata-2024.2-py2.py3-none-any.whl (346 kB)\n",
      "Installing collected packages: pytz, tzdata, numpy, pandas\n",
      "Successfully installed numpy-2.1.3 pandas-2.2.3 pytz-2024.2 tzdata-2024.2\n",
      "\n",
      "\u001b[1m[\u001b[0m\u001b[34;49mnotice\u001b[0m\u001b[1;39;49m]\u001b[0m\u001b[39;49m A new release of pip is available: \u001b[0m\u001b[31;49m23.2.1\u001b[0m\u001b[39;49m -> \u001b[0m\u001b[32;49m24.3.1\u001b[0m\n",
      "\u001b[1m[\u001b[0m\u001b[34;49mnotice\u001b[0m\u001b[1;39;49m]\u001b[0m\u001b[39;49m To update, run: \u001b[0m\u001b[32;49mpip install --upgrade pip\u001b[0m\n"
     ]
    }
   ],
   "source": [
    "! pip install pandas numpy"
   ]
  },
  {
   "cell_type": "code",
   "execution_count": 1,
   "id": "c785b6e5-97bf-4e8e-90c9-99bbd209c362",
   "metadata": {},
   "outputs": [],
   "source": [
    "import pandas as pd"
   ]
  },
  {
   "cell_type": "code",
   "execution_count": 2,
   "id": "25da7498-29f2-4b74-898e-ea70be7c1354",
   "metadata": {},
   "outputs": [
    {
     "data": {
      "text/html": [
       "<div>\n",
       "<style scoped>\n",
       "    .dataframe tbody tr th:only-of-type {\n",
       "        vertical-align: middle;\n",
       "    }\n",
       "\n",
       "    .dataframe tbody tr th {\n",
       "        vertical-align: top;\n",
       "    }\n",
       "\n",
       "    .dataframe thead th {\n",
       "        text-align: right;\n",
       "    }\n",
       "</style>\n",
       "<table border=\"1\" class=\"dataframe\">\n",
       "  <thead>\n",
       "    <tr style=\"text-align: right;\">\n",
       "      <th></th>\n",
       "      <th>ID</th>\n",
       "      <th>Species</th>\n",
       "      <th>Animal_Class</th>\n",
       "      <th>WQ_Principles</th>\n",
       "      <th>WQ_Criteria</th>\n",
       "      <th>Welfare_Hazards_Animal</th>\n",
       "      <th>Welfare_Hazards_Consequences</th>\n",
       "      <th>Welfare_Hazards_Affective_States</th>\n",
       "      <th>Welfare_Hazards_Impact</th>\n",
       "      <th>Ease_of_Hazard_Mitigation</th>\n",
       "      <th>Welfare_Indicator</th>\n",
       "      <th>Indicator_Type</th>\n",
       "      <th>Indicator_Dimensions</th>\n",
       "      <th>Indicator_Ease</th>\n",
       "      <th>Indicator_Resources</th>\n",
       "      <th>Hazards_Source_1</th>\n",
       "      <th>Hazards_Source_2</th>\n",
       "      <th>Global_Usage</th>\n",
       "      <th>Norway_Usage</th>\n",
       "    </tr>\n",
       "  </thead>\n",
       "  <tbody>\n",
       "    <tr>\n",
       "      <th>0</th>\n",
       "      <td>1</td>\n",
       "      <td>Dairy cows</td>\n",
       "      <td>Tie stalls</td>\n",
       "      <td>Good Health</td>\n",
       "      <td>Absence of disease</td>\n",
       "      <td>Pasture access</td>\n",
       "      <td>Gastro-enteric disorders</td>\n",
       "      <td>Discomfort</td>\n",
       "      <td>High</td>\n",
       "      <td>Moderate</td>\n",
       "      <td>Abdominal discomfort</td>\n",
       "      <td>Welfare outcome</td>\n",
       "      <td>Health/physical/production</td>\n",
       "      <td>Moderate</td>\n",
       "      <td>Low</td>\n",
       "      <td>7.0</td>\n",
       "      <td>NaN</td>\n",
       "      <td>F</td>\n",
       "      <td>Y</td>\n",
       "    </tr>\n",
       "    <tr>\n",
       "      <th>1</th>\n",
       "      <td>1</td>\n",
       "      <td>Dairy cows</td>\n",
       "      <td>Cubicles</td>\n",
       "      <td>Good Health</td>\n",
       "      <td>Absence of disease</td>\n",
       "      <td>Pasture access</td>\n",
       "      <td>Gastro-enteric disorders</td>\n",
       "      <td>Discomfort</td>\n",
       "      <td>High</td>\n",
       "      <td>Moderate</td>\n",
       "      <td>Abdominal discomfort</td>\n",
       "      <td>Welfare outcome</td>\n",
       "      <td>Health/physical/production</td>\n",
       "      <td>Moderate</td>\n",
       "      <td>Low</td>\n",
       "      <td>7.0</td>\n",
       "      <td>NaN</td>\n",
       "      <td>F</td>\n",
       "      <td>Y</td>\n",
       "    </tr>\n",
       "    <tr>\n",
       "      <th>2</th>\n",
       "      <td>2</td>\n",
       "      <td>Dairy cows</td>\n",
       "      <td>Tie stalls</td>\n",
       "      <td>Appropiate behaviour</td>\n",
       "      <td>Expression of social behaviours</td>\n",
       "      <td>Continuous housing for long periods</td>\n",
       "      <td>General disruption of behaviour</td>\n",
       "      <td>Di(stress)</td>\n",
       "      <td>Low</td>\n",
       "      <td>Difficult</td>\n",
       "      <td>Agonistic behaviour</td>\n",
       "      <td>Welfare outcome</td>\n",
       "      <td>Behavioural</td>\n",
       "      <td>Moderate</td>\n",
       "      <td>Low</td>\n",
       "      <td>7.0</td>\n",
       "      <td>NaN</td>\n",
       "      <td>F, R</td>\n",
       "      <td>Y</td>\n",
       "    </tr>\n",
       "    <tr>\n",
       "      <th>3</th>\n",
       "      <td>2</td>\n",
       "      <td>Dairy cows</td>\n",
       "      <td>Cubicles</td>\n",
       "      <td>Appropiate behaviour</td>\n",
       "      <td>Expression of social behaviours</td>\n",
       "      <td>Continuous housing for long periods</td>\n",
       "      <td>General disruption of behaviour</td>\n",
       "      <td>Di(stress)</td>\n",
       "      <td>Low</td>\n",
       "      <td>Difficult</td>\n",
       "      <td>Agonistic behaviour</td>\n",
       "      <td>Welfare outcome</td>\n",
       "      <td>Behavioural</td>\n",
       "      <td>Moderate</td>\n",
       "      <td>Low</td>\n",
       "      <td>7.0</td>\n",
       "      <td>NaN</td>\n",
       "      <td>F, R</td>\n",
       "      <td>Y</td>\n",
       "    </tr>\n",
       "    <tr>\n",
       "      <th>4</th>\n",
       "      <td>3</td>\n",
       "      <td>Dairy cows</td>\n",
       "      <td>Tie stalls</td>\n",
       "      <td>Appropiate behaviour</td>\n",
       "      <td>Expression of other behaviours</td>\n",
       "      <td>Insufficient space</td>\n",
       "      <td>Restriction of movement</td>\n",
       "      <td>Discomfort</td>\n",
       "      <td>High</td>\n",
       "      <td>Moderate</td>\n",
       "      <td>Agonistic interactions</td>\n",
       "      <td>Welfare outcome</td>\n",
       "      <td>Behavioural</td>\n",
       "      <td>Moderate</td>\n",
       "      <td>Medium</td>\n",
       "      <td>NaN</td>\n",
       "      <td>13a</td>\n",
       "      <td>R</td>\n",
       "      <td>N (research only)</td>\n",
       "    </tr>\n",
       "  </tbody>\n",
       "</table>\n",
       "</div>"
      ],
      "text/plain": [
       "   ID     Species Animal_Class         WQ_Principles  \\\n",
       "0   1  Dairy cows   Tie stalls           Good Health   \n",
       "1   1  Dairy cows     Cubicles           Good Health   \n",
       "2   2  Dairy cows   Tie stalls  Appropiate behaviour   \n",
       "3   2  Dairy cows     Cubicles  Appropiate behaviour   \n",
       "4   3  Dairy cows   Tie stalls  Appropiate behaviour   \n",
       "\n",
       "                       WQ_Criteria               Welfare_Hazards_Animal  \\\n",
       "0               Absence of disease                       Pasture access   \n",
       "1               Absence of disease                       Pasture access   \n",
       "2  Expression of social behaviours  Continuous housing for long periods   \n",
       "3  Expression of social behaviours  Continuous housing for long periods   \n",
       "4   Expression of other behaviours                   Insufficient space   \n",
       "\n",
       "      Welfare_Hazards_Consequences Welfare_Hazards_Affective_States  \\\n",
       "0         Gastro-enteric disorders                       Discomfort   \n",
       "1         Gastro-enteric disorders                       Discomfort   \n",
       "2  General disruption of behaviour                       Di(stress)   \n",
       "3  General disruption of behaviour                       Di(stress)   \n",
       "4          Restriction of movement                       Discomfort   \n",
       "\n",
       "  Welfare_Hazards_Impact Ease_of_Hazard_Mitigation       Welfare_Indicator  \\\n",
       "0                   High                  Moderate    Abdominal discomfort   \n",
       "1                   High                  Moderate    Abdominal discomfort   \n",
       "2                    Low                 Difficult     Agonistic behaviour   \n",
       "3                    Low                 Difficult     Agonistic behaviour   \n",
       "4                   High                  Moderate  Agonistic interactions   \n",
       "\n",
       "    Indicator_Type        Indicator_Dimensions Indicator_Ease  \\\n",
       "0  Welfare outcome  Health/physical/production       Moderate   \n",
       "1  Welfare outcome  Health/physical/production       Moderate   \n",
       "2  Welfare outcome                 Behavioural       Moderate   \n",
       "3  Welfare outcome                 Behavioural       Moderate   \n",
       "4  Welfare outcome                 Behavioural       Moderate   \n",
       "\n",
       "  Indicator_Resources  Hazards_Source_1 Hazards_Source_2 Global_Usage  \\\n",
       "0                 Low               7.0              NaN            F   \n",
       "1                 Low               7.0              NaN            F   \n",
       "2                 Low               7.0              NaN         F, R   \n",
       "3                 Low               7.0              NaN         F, R   \n",
       "4              Medium               NaN              13a            R   \n",
       "\n",
       "        Norway_Usage  \n",
       "0                  Y  \n",
       "1                  Y  \n",
       "2                  Y  \n",
       "3                  Y  \n",
       "4  N (research only)  "
      ]
     },
     "execution_count": 2,
     "metadata": {},
     "output_type": "execute_result"
    }
   ],
   "source": [
    "df=pd.read_csv(\"../data/dairy_cows.csv\")\n",
    "df.head()"
   ]
  },
  {
   "cell_type": "code",
   "execution_count": 3,
   "id": "ac18945b-a8ca-4eab-b5e9-1efd451d4acd",
   "metadata": {},
   "outputs": [],
   "source": [
    "categorical_columns = ['Species', 'Animal_Class', 'Welfare_Hazards_Animal',\n",
    "                       'Welfare_Hazards_Consequences', 'Welfare_Hazards_Impact',\n",
    "                       'Ease_of_Hazard_Mitigation', 'Welfare_Indicator',\n",
    "                       'Indicator_Ease', 'Indicator_Resources']\n",
    "for col in categorical_columns:\n",
    "    df[col] = df[col].astype(str).str.strip()\n"
   ]
  },
  {
   "cell_type": "code",
   "execution_count": 4,
   "id": "eedb134a-e138-4df0-aa89-6d5490b8c746",
   "metadata": {},
   "outputs": [],
   "source": [
    "unique_hazards = df['Welfare_Hazards_Animal'].unique()\n",
    "unique_consequences = df['Welfare_Hazards_Consequences'].unique()"
   ]
  },
  {
   "cell_type": "code",
   "execution_count": 5,
   "id": "581aa634-0214-4c57-9a67-fffd1233385e",
   "metadata": {},
   "outputs": [
    {
     "data": {
      "text/plain": [
       "22"
      ]
     },
     "execution_count": 5,
     "metadata": {},
     "output_type": "execute_result"
    }
   ],
   "source": [
    "len(unique_consequences)"
   ]
  },
  {
   "cell_type": "code",
   "execution_count": 6,
   "id": "aa8244f5-ab6f-46b2-a020-0170c456e960",
   "metadata": {},
   "outputs": [
    {
     "data": {
      "text/plain": [
       "45"
      ]
     },
     "execution_count": 6,
     "metadata": {},
     "output_type": "execute_result"
    }
   ],
   "source": [
    "len(unique_hazards)"
   ]
  },
  {
   "cell_type": "code",
   "execution_count": 7,
   "id": "5d545605-cca8-4b16-ba7f-dd8558ef7651",
   "metadata": {},
   "outputs": [],
   "source": [
    "indicator_hazard_map = {}\n",
    "indicator_consequence_map = {}\n",
    "\n",
    "for index, row in df.iterrows():\n",
    "    indicator = row['Welfare_Indicator']\n",
    "    hazard = row['Welfare_Hazards_Animal']\n",
    "    consequence = row['Welfare_Hazards_Consequences']\n",
    "    \n",
    "    if indicator not in indicator_hazard_map:\n",
    "        indicator_hazard_map[indicator] = set()\n",
    "    indicator_hazard_map[indicator].add(hazard)\n",
    "    \n",
    "    if indicator not in indicator_consequence_map:\n",
    "        indicator_consequence_map[indicator] = set()\n",
    "    indicator_consequence_map[indicator].add(consequence)"
   ]
  },
  {
   "cell_type": "code",
   "execution_count": 8,
   "id": "cfbfbd27-5951-4142-b424-44fe30d9f1f0",
   "metadata": {},
   "outputs": [
    {
     "data": {
      "text/plain": [
       "{'Cold stress',\n",
       " 'Environmental stress',\n",
       " 'Group (social) stress',\n",
       " 'Handling stress',\n",
       " 'Heat stress',\n",
       " 'Inability to chew and/or ruminate',\n",
       " 'Isolation stress',\n",
       " 'Separation stress'}"
      ]
     },
     "execution_count": 8,
     "metadata": {},
     "output_type": "execute_result"
    }
   ],
   "source": [
    "indicator_consequence_map['Physiological stress indicators']"
   ]
  },
  {
   "cell_type": "code",
   "execution_count": 9,
   "id": "af1bf9fb-e855-436b-be27-431467882803",
   "metadata": {},
   "outputs": [
    {
     "data": {
      "text/plain": [
       "54"
      ]
     },
     "execution_count": 9,
     "metadata": {},
     "output_type": "execute_result"
    }
   ],
   "source": [
    "len(indicator_consequence_map)"
   ]
  },
  {
   "cell_type": "code",
   "execution_count": 10,
   "id": "9baed6db-adf9-4c69-8e35-6b989e088d73",
   "metadata": {},
   "outputs": [
    {
     "name": "stdout",
     "output_type": "stream",
     "text": [
      "28\n"
     ]
    },
    {
     "data": {
      "text/plain": [
       "{'Being tied up temporarily',\n",
       " 'Being tied without exercise for long periods',\n",
       " 'Continuous housing for long periods',\n",
       " 'Early separation of cow and calf',\n",
       " 'Early separation of cow and calf (after 24h)',\n",
       " 'Excessive noise (constant or sudden)',\n",
       " 'Fewer cubicles than cows',\n",
       " 'Inadequate bedding (cubicle/stall floor)',\n",
       " 'Inadequate design of waiting area (size, flooring, crowding gates)',\n",
       " 'Inadequate flooring in passageways, feeding and milking areas',\n",
       " 'Inadequate maintenance of milking equipment',\n",
       " 'Inadequate milking equipment',\n",
       " 'Inadequate milking parlour design',\n",
       " 'Inadequate milking robot design',\n",
       " 'Insufficient access to water (broken system, poor management)',\n",
       " 'Insufficient access to water (inappropriate system design)',\n",
       " 'Insufficient protection from weather',\n",
       " 'Lack of facilities for sick animals',\n",
       " 'Lack of handling/restraining facilities',\n",
       " 'Lack of space for exercise and social interactions',\n",
       " 'Mixing animals from different groups',\n",
       " 'Poor calving conditions (absence of pen)',\n",
       " 'Poor calving conditions (pen design)',\n",
       " 'Poor calving conditions (unable to separate from other animals)',\n",
       " 'Poor cubicle design',\n",
       " 'Poor stall design / stall too small',\n",
       " 'Too few feeding places indoors',\n",
       " 'Use of cow trainers'}"
      ]
     },
     "execution_count": 10,
     "metadata": {},
     "output_type": "execute_result"
    }
   ],
   "source": [
    "print(len(indicator_hazard_map['Physiological stress indicators']))\n",
    "indicator_hazard_map['Physiological stress indicators']"
   ]
  },
  {
   "cell_type": "code",
   "execution_count": 11,
   "id": "18ef24e8-d81f-4f97-a3c8-47e0a5be3fbe",
   "metadata": {},
   "outputs": [],
   "source": [
    "indicator_coverage_map = {}\n",
    "for indicator in indicator_hazard_map:\n",
    "    coverage = set()\n",
    "    coverage.update(indicator_hazard_map[indicator])\n",
    "    coverage.update(indicator_consequence_map[indicator])\n",
    "    indicator_coverage_map[indicator] = coverage\n"
   ]
  },
  {
   "cell_type": "code",
   "execution_count": 12,
   "id": "23ebfcb8-ecd1-475c-9dcb-ef407255b531",
   "metadata": {},
   "outputs": [
    {
     "name": "stdout",
     "output_type": "stream",
     "text": [
      "\n",
      "Indicator Coverage Mapping:\n",
      "Abdominal discomfort: {'Gastro-enteric disorders', 'Pasture access'}\n",
      "Agonistic behaviour: {'General disruption of behaviour', 'Continuous housing for long periods'}\n",
      "Agonistic interactions: {'Insufficient space', 'Restriction of movement'}\n",
      "Allo-grooming: {'Inability to perform comfort behaviour', 'Inadequate flooring in passageways, feeding and milking areas'}\n",
      "Altered resting posture: {'Continuous housing for long periods', 'Resting problems'}\n",
      "Amount of eye white: {'Early separation of cow and calf', 'Separation stress', 'Early separation of cow and calf (after 24h)'}\n",
      "Body condition scoring: {'Poor quality feed (low nutritive value)', 'Poor pasture quality', 'Underfeeding', 'Prolonged hunger', 'Poor quality feed (pathogens/toxins)'}\n",
      "Brush use: {'Inability to perform comfort behaviour', 'Inadequate flooring in passageways, feeding and milking areas'}\n",
      "Calving behaviour (difficult/long calving): {'Poor calving conditions (pen design)', 'Reproductive disorders'}\n",
      "Calving records (death of cow): {'Mortality', 'Difficulty calving because of the sire', 'Poor calving conditions (calving management)', 'Delayed calving intervention'}\n",
      "Calving records (difficulty calving): {'Poor calving conditions (pen design)', 'Reproductive disorders'}\n",
      "Calving records (duration of calving): {'Poor calving conditions (pen design)', 'Reproductive disorders'}\n",
      "Coat condiition / cleanliness: {'Inadequate flooring in passageways, feeding and milking areas', 'Being tied up temporarily', 'Skin disorders (other than soft tissue lesions and integument damage)'}\n",
      "Cow Pain Scale (attention towards surroundings, head position, ear position, facial expression, response to approach, back position, lameness): {'Poor cubicle design', 'Restriction of movement', 'Poor calving conditions (unable to separate from other animals)', 'Reproductive disorders', 'Inadequate bedding (cubicle/stall floor)', 'Inadequate milking parlour design', 'Soft tissue lesions and integument damage', 'Poor calving conditions (pen design)', 'Group (social) stress', 'Being tied up temporarily', 'Environmental stress', 'Handling stress', 'Poor stall design / stall too small', 'Mixing animals from different groups', 'Inadequate maintenance of milking equipment', 'Poor calving conditions (absence of pen)', 'Use of cow trainers', 'Inadequate design of waiting area (size, flooring, crowding gates)', 'Lack of handling/restraining facilities', 'Tie stall collar (too tight)'}\n",
      "Deviation from normal, uninterrupted getting up movement: {'Insufficient space', 'Resting problems'}\n",
      "Disease: {'Poor cubicle design', 'Environmental stress'}\n",
      "Distended udder: {'Soft tissue lesions and integument damage', 'Milking robot not used by cow', 'Milking robot breakdown'}\n",
      "Duration of lying down movement: {'Insufficient space', 'Resting problems'}\n",
      "Frequency of lying bouts: {'Insufficient space', 'Resting problems'}\n",
      "Gait assessment: {'Inadequate maintenance of housing', 'Fewer cubicles than cows', 'Being tied without exercise for long periods', 'Continuous housing for long periods', 'Locomotor disorders (including lameness)', 'Lack of space for exercise and social interactions', 'Mixing animals from different groups', 'Inadequate flooring in passageways, feeding and milking areas', 'Soft tissue lesions and integument damage'}\n",
      "Hock alterations: {'Mixing animals from different groups', 'Inadequate maintenance of housing', 'Inadequate flooring in passageways, feeding and milking areas', 'Fewer cubicles than cows', 'Being tied without exercise for long periods', 'Continuous housing for long periods', 'Locomotor disorders (including lameness)', 'Lack of space for exercise and social interactions'}\n",
      "Hot, red, painful udder: {'Early separation of cow and calf', 'Inadequate milking equipment', 'Continuous housing for long periods', 'Inadequate milking parlour design', 'Mastitis', 'Inadequate milking robot design'}\n",
      "Huddling: {'Inadequate maintenance of housing', 'Cold stress', 'Insufficient protection from weather', 'Inadequate bedding (cubicle/stall floor)', 'Lack of facilities for sick animals'}\n",
      "Impaired calving behavour: {'Poor calving conditions (pen design)', 'Poor calving conditions (unable to separate from other animals)', 'Reproductive disorders', 'Poor calving conditions (absence of pen)'}\n",
      "Impaired maintenance behaviour: {'Inability to perform comfort behaviour', 'Inadequate flooring in passageways, feeding and milking areas', 'Being tied up temporarily'}\n",
      "Impaired social behaviour: {'Mixing animals from different groups', 'Inadequate flooring in passageways, feeding and milking areas', 'Lack of space for exercise and social interactions', 'General disruption of behaviour'}\n",
      "Increased standing: {'Insufficient protection from weather', 'Heat stress', 'Inadequate maintenance of housing'}\n",
      "Injuries: {'Poor calving conditions (pen design)', 'Inadequate maintenance of housing', 'Poor cubicle design', 'Too few feeding places', 'Lack of space for exercise and social interactions', 'Mixing animals from different groups', 'Inadequate flooring in passageways, feeding and milking areas', 'Poor stall design / stall too small', 'Soft tissue lesions and integument damage', 'Bone lesions (incl. fractures and dislocations)'}\n",
      "Knee alterations: {'Mixing animals from different groups', 'Inadequate maintenance of housing', 'Inadequate flooring in passageways, feeding and milking areas', 'Fewer cubicles than cows', 'Being tied without exercise for long periods', 'Continuous housing for long periods', 'Locomotor disorders (including lameness)', 'Lack of space for exercise and social interactions'}\n",
      "Lesions of the claw: {'Soft tissue lesions and integument damage', 'Mixing animals from different groups', 'Inadequate flooring in passageways, feeding and milking areas', 'Locomotor disorders (including lameness)'}\n",
      "Locomotory behaviour (restricted movement): {'Tie stall collar (too tight)', 'Restriction of movement'}\n",
      "Lying behaviour synchronisation: {'Insufficient space', 'Resting problems'}\n",
      "Lying time: {'Insufficient space', 'Resting problems'}\n",
      "Metabolic disorders: {'Inadequate housing design', 'Inadequate maintenance of housing', 'Being tied without exercise for long periods', 'Metabolic disorders'}\n",
      "Milk somatic cell count (bulk or individual): {'Early separation of cow and calf', 'Inadequate milking equipment', 'Continuous housing for long periods', 'Inadequate milking parlour design', 'Mastitis', 'Inadequate milking robot design'}\n",
      "Neck injuries: {'Soft tissue lesions and integument damage', 'Tie stall collar (injury)'}\n",
      "Physiological stress indicators: {'Use of cow trainers', 'Excessive noise (constant or sudden)', 'Poor cubicle design', 'Being tied without exercise for long periods', 'Inadequate milking equipment', 'Continuous housing for long periods', 'Poor calving conditions (unable to separate from other animals)', 'Heat stress', 'Lack of space for exercise and social interactions', 'Lack of facilities for sick animals', 'Separation stress', 'Early separation of cow and calf', 'Inadequate flooring in passageways, feeding and milking areas', 'Cold stress', 'Inadequate milking parlour design', 'Insufficient access to water (broken system, poor management)', 'Too few feeding places indoors', 'Inability to chew and/or ruminate', 'Poor calving conditions (pen design)', 'Fewer cubicles than cows', 'Insufficient protection from weather', 'Group (social) stress', 'Being tied up temporarily', 'Environmental stress', 'Inadequate milking robot design', 'Handling stress', 'Poor stall design / stall too small', 'Mixing animals from different groups', 'Inadequate maintenance of milking equipment', 'Isolation stress', 'Poor calving conditions (absence of pen)', 'Insufficient access to water (inappropriate system design)', 'Inadequate bedding (cubicle/stall floor)', 'Inadequate design of waiting area (size, flooring, crowding gates)', 'Lack of handling/restraining facilities', 'Early separation of cow and calf (after 24h)'}\n",
      "Reproductive disorders: {'Reproductive disorders', 'Mixing animals from different groups'}\n",
      "Respiratory rate and panting: {'Insufficient protection from weather', 'Heat stress', 'Inadequate maintenance of housing'}\n",
      "Self-grooming: {'Inability to perform comfort behaviour', 'Inadequate flooring in passageways, feeding and milking areas', 'Being tied up temporarily'}\n",
      "Shivering: {'Inadequate maintenance of housing', 'Cold stress', 'Insufficient protection from weather', 'Inadequate bedding (cubicle/stall floor)', 'Lack of facilities for sick animals'}\n",
      "Speed: {'Insufficient space', 'Restriction of movement'}\n",
      "Step activity: {'Insufficient space', 'Restriction of movement'}\n",
      "Sunburn injury: {'Insufficient protection from weather', 'Soft tissue lesions and integument damage'}\n",
      "Teat disorders: {'Soft tissue lesions and integument damage', 'Inadequate milking equipment'}\n",
      "Time budgets (disruption of behaviour): {'Poor calving conditions (pen design)', 'Use of cow trainers', 'Poor cubicle design', 'Fewer cubicles than cows', 'Continuous housing for long periods', 'Poor calving conditions (unable to separate from other animals)', 'Insufficient access to water (broken system, poor management)', 'Inadequate milking robot design', 'Poor stall design / stall too small', 'Poor calving conditions (absence of pen)', 'Inadequate milking parlour design', 'General disruption of behaviour', 'Inadequate bedding (cubicle/stall floor)', 'Inadequate design of waiting area (size, flooring, crowding gates)', 'Lack of handling/restraining facilities', 'Insufficient access to water (inappropriate system design)'}\n",
      "Time budgets (increased standing, decreased lying): {'Insufficient protection from weather', 'General disruption of behaviour'}\n",
      "Time budgets (lack of rest): {'Poor stall design / stall too small', 'Inadequate maintenance of housing', 'Poor cubicle design', 'Fewer cubicles than cows', 'Continuous housing for long periods', 'Inadequate bedding (cubicle/stall floor)', 'Lack of facilities for sick animals', 'Resting problems'}\n",
      "Time budgets (prevention of behaviour): {'Poor cubicle design', 'Continuous housing for long periods', 'Inadequate milking robot design', 'Poor stall design / stall too small', 'General disruption of behaviour', 'Inadequate milking parlour design', 'Inadequate bedding (cubicle/stall floor)', 'Inadequate design of waiting area (size, flooring, crowding gates)', 'Lack of handling/restraining facilities'}\n",
      "Time budgets (reduced behavioural repertoire): {'Lack of environmental enrichment', 'General disruption of behaviour'}\n",
      "Time spent looking out of pen: {'Early separation of cow and calf', 'Separation stress', 'Early separation of cow and calf (after 24h)'}\n",
      "Vocalisations: {'Early separation of cow and calf', 'Separation stress', 'Early separation of cow and calf (after 24h)'}\n",
      "Walking distance: {'Insufficient space', 'Restriction of movement'}\n",
      "Weight loss (adults) or restricted weight gain (calves): {'Gastro-enteric disorders', 'Pasture access'}\n"
     ]
    }
   ],
   "source": [
    "# Display the mapping\n",
    "print(\"\\nIndicator Coverage Mapping:\")\n",
    "for indicator, coverage in indicator_coverage_map.items():\n",
    "    print(f\"{indicator}: {coverage}\")"
   ]
  },
  {
   "cell_type": "code",
   "execution_count": 13,
   "id": "e3f94f23-e1a6-4d58-8477-1bb948f17053",
   "metadata": {},
   "outputs": [
    {
     "name": "stdout",
     "output_type": "stream",
     "text": [
      "36\n"
     ]
    }
   ],
   "source": [
    "print(len(indicator_coverage_map['Physiological stress indicators']))"
   ]
  },
  {
   "cell_type": "code",
   "execution_count": 14,
   "id": "3555f855-0ba3-4015-bffa-f0b9b53d61d6",
   "metadata": {},
   "outputs": [],
   "source": [
    "all_hazards = set(unique_hazards)\n",
    "all_consequences = set(unique_consequences)\n",
    "all_coverage = all_hazards.union(all_consequences)"
   ]
  },
  {
   "cell_type": "code",
   "execution_count": 15,
   "id": "a86acfff-b188-456d-b2b9-f2d20f83d62e",
   "metadata": {},
   "outputs": [
    {
     "name": "stdout",
     "output_type": "stream",
     "text": [
      "Selected Indicator: Physiological stress indicators covering 36 new elements.\n",
      "Selected Indicator: Body condition scoring covering 5 new elements.\n",
      "Selected Indicator: Calving records (death of cow) covering 4 new elements.\n",
      "Selected Indicator: Cow Pain Scale (attention towards surroundings, head position, ear position, facial expression, response to approach, back position, lameness) covering 4 new elements.\n"
     ]
    }
   ],
   "source": [
    "selected_indicators = set()\n",
    "covered = set()\n",
    "\n",
    "# Make a copy of indicator_coverage_map to manipulate\n",
    "coverage_map = indicator_coverage_map.copy()\n",
    "\n",
    "for _ in range(4):\n",
    "    # Select the indicator that covers the most uncovered elements\n",
    "    best_indicator = None\n",
    "    best_coverage = set()\n",
    "    for indicator, coverage in coverage_map.items():\n",
    "        new_coverage = coverage - covered\n",
    "        if len(new_coverage) > len(best_coverage):\n",
    "            best_coverage = new_coverage\n",
    "            best_indicator = indicator\n",
    "    if best_indicator is None:\n",
    "        break\n",
    "    selected_indicators.add(best_indicator)\n",
    "    covered.update(best_coverage)\n",
    "    # Remove the selected indicator from consideration\n",
    "    del coverage_map[best_indicator]\n",
    "    print(f\"Selected Indicator: {best_indicator} covering {len(best_coverage)} new elements.\")\n"
   ]
  },
  {
   "cell_type": "code",
   "execution_count": 16,
   "id": "109da5f5-648e-4d74-b62b-8711df967ce4",
   "metadata": {},
   "outputs": [
    {
     "name": "stdout",
     "output_type": "stream",
     "text": [
      "\n",
      "Selected Indicators:\n",
      "- Physiological stress indicators\n",
      "- Cow Pain Scale (attention towards surroundings, head position, ear position, facial expression, response to approach, back position, lameness)\n",
      "- Calving records (death of cow)\n",
      "- Body condition scoring\n"
     ]
    }
   ],
   "source": [
    "# Display the selected indicators\n",
    "print(\"\\nSelected Indicators:\")\n",
    "for indicator in selected_indicators:\n",
    "    print(f\"- {indicator}\")"
   ]
  },
  {
   "cell_type": "code",
   "execution_count": 17,
   "id": "de8d66c6-e306-4208-8927-66858acd0337",
   "metadata": {},
   "outputs": [],
   "source": [
    "# Calculate total coverage\n",
    "total_covered = set()\n",
    "for indicator in selected_indicators:\n",
    "    total_covered.update(indicator_coverage_map[indicator])"
   ]
  },
  {
   "cell_type": "code",
   "execution_count": 18,
   "id": "0a7928fc-1d25-4963-9f2d-fefa8a1b4149",
   "metadata": {},
   "outputs": [
    {
     "name": "stdout",
     "output_type": "stream",
     "text": [
      "\n",
      "Total Coverage (49 out of 67):\n",
      "{'Excessive noise (constant or sudden)', 'Poor cubicle design', 'Inadequate milking equipment', 'Poor calving conditions (unable to separate from other animals)', 'Reproductive disorders', 'Inadequate bedding (cubicle/stall floor)', 'Lack of facilities for sick animals', 'Early separation of cow and calf', 'Inadequate flooring in passageways, feeding and milking areas', 'Inadequate milking parlour design', 'Soft tissue lesions and integument damage', 'Poor calving conditions (calving management)', 'Inability to chew and/or ruminate', 'Poor calving conditions (pen design)', 'Poor quality feed (low nutritive value)', 'Fewer cubicles than cows', 'Group (social) stress', 'Isolation stress', 'Inadequate maintenance of milking equipment', 'Poor calving conditions (absence of pen)', 'Poor pasture quality', 'Lack of handling/restraining facilities', 'Delayed calving intervention', 'Early separation of cow and calf (after 24h)', 'Being tied without exercise for long periods', 'Continuous housing for long periods', 'Restriction of movement', 'Underfeeding', 'Heat stress', 'Mortality', 'Lack of space for exercise and social interactions', 'Separation stress', 'Poor quality feed (pathogens/toxins)', 'Difficulty calving because of the sire', 'Cold stress', 'Prolonged hunger', 'Insufficient access to water (broken system, poor management)', 'Too few feeding places indoors', 'Insufficient protection from weather', 'Being tied up temporarily', 'Environmental stress', 'Inadequate milking robot design', 'Handling stress', 'Poor stall design / stall too small', 'Mixing animals from different groups', 'Insufficient access to water (inappropriate system design)', 'Use of cow trainers', 'Inadequate design of waiting area (size, flooring, crowding gates)', 'Tie stall collar (too tight)'}\n"
     ]
    }
   ],
   "source": [
    "print(f\"\\nTotal Coverage ({len(total_covered)} out of {len(all_coverage)}):\")\n",
    "print(total_covered)"
   ]
  },
  {
   "cell_type": "code",
   "execution_count": 19,
   "id": "3478505d-af2d-45b6-abed-1aca89c10caa",
   "metadata": {},
   "outputs": [
    {
     "name": "stdout",
     "output_type": "stream",
     "text": [
      "\n",
      "Uncovered Hazards and Consequences (18):\n",
      "{'Inadequate maintenance of housing', 'Resting problems', 'Insufficient space', 'Locomotor disorders (including lameness)', 'Too few feeding places', 'Gastro-enteric disorders', 'Inadequate housing design', 'Inability to perform comfort behaviour', 'Metabolic disorders', 'Tie stall collar (injury)', 'Milking robot breakdown', 'Milking robot not used by cow', 'General disruption of behaviour', 'Pasture access', 'Mastitis', 'Skin disorders (other than soft tissue lesions and integument damage)', 'Lack of environmental enrichment', 'Bone lesions (incl. fractures and dislocations)'}\n"
     ]
    }
   ],
   "source": [
    "uncovered = all_coverage - total_covered\n",
    "print(f\"\\nUncovered Hazards and Consequences ({len(uncovered)}):\")\n",
    "print(uncovered)"
   ]
  },
  {
   "cell_type": "code",
   "execution_count": 20,
   "id": "0e05d0da-f1a3-4105-8b5b-4a39d55d0a44",
   "metadata": {},
   "outputs": [
    {
     "name": "stdout",
     "output_type": "stream",
     "text": [
      "\n",
      "Indicator: Physiological stress indicators\n",
      "  Hazards: {'Excessive noise (constant or sudden)', 'Poor cubicle design', 'Inadequate milking equipment', 'Poor calving conditions (unable to separate from other animals)', 'Inadequate bedding (cubicle/stall floor)', 'Lack of facilities for sick animals', 'Early separation of cow and calf', 'Inadequate flooring in passageways, feeding and milking areas', 'Inadequate milking parlour design', 'Poor calving conditions (pen design)', 'Fewer cubicles than cows', 'Inadequate maintenance of milking equipment', 'Poor calving conditions (absence of pen)', 'Lack of handling/restraining facilities', 'Early separation of cow and calf (after 24h)', 'Being tied without exercise for long periods', 'Continuous housing for long periods', 'Lack of space for exercise and social interactions', 'Insufficient access to water (broken system, poor management)', 'Too few feeding places indoors', 'Insufficient protection from weather', 'Being tied up temporarily', 'Inadequate milking robot design', 'Poor stall design / stall too small', 'Mixing animals from different groups', 'Insufficient access to water (inappropriate system design)', 'Use of cow trainers', 'Inadequate design of waiting area (size, flooring, crowding gates)'}\n",
      "  Consequences: {'Heat stress', 'Group (social) stress', 'Environmental stress', 'Separation stress', 'Handling stress', 'Isolation stress', 'Cold stress', 'Inability to chew and/or ruminate'}\n",
      "\n",
      "Indicator: Cow Pain Scale (attention towards surroundings, head position, ear position, facial expression, response to approach, back position, lameness)\n",
      "  Hazards: {'Poor calving conditions (pen design)', 'Use of cow trainers', 'Poor cubicle design', 'Poor calving conditions (unable to separate from other animals)', 'Being tied up temporarily', 'Poor stall design / stall too small', 'Mixing animals from different groups', 'Inadequate maintenance of milking equipment', 'Poor calving conditions (absence of pen)', 'Inadequate milking parlour design', 'Inadequate bedding (cubicle/stall floor)', 'Inadequate design of waiting area (size, flooring, crowding gates)', 'Lack of handling/restraining facilities', 'Tie stall collar (too tight)'}\n",
      "  Consequences: {'Restriction of movement', 'Reproductive disorders', 'Group (social) stress', 'Environmental stress', 'Handling stress', 'Soft tissue lesions and integument damage'}\n",
      "\n",
      "Indicator: Calving records (death of cow)\n",
      "  Hazards: {'Difficulty calving because of the sire', 'Poor calving conditions (calving management)', 'Delayed calving intervention'}\n",
      "  Consequences: {'Mortality'}\n",
      "\n",
      "Indicator: Body condition scoring\n",
      "  Hazards: {'Poor quality feed (pathogens/toxins)', 'Poor quality feed (low nutritive value)', 'Poor pasture quality', 'Underfeeding'}\n",
      "  Consequences: {'Prolonged hunger'}\n"
     ]
    }
   ],
   "source": [
    "for indicator in selected_indicators:\n",
    "    hazards = indicator_hazard_map.get(indicator, set())\n",
    "    consequences = indicator_consequence_map.get(indicator, set())\n",
    "    print(f\"\\nIndicator: {indicator}\")\n",
    "    print(f\"  Hazards: {hazards}\")\n",
    "    print(f\"  Consequences: {consequences}\")"
   ]
  },
  {
   "cell_type": "code",
   "execution_count": 21,
   "id": "fbbc651b-0331-47bc-b287-ba933e90a032",
   "metadata": {},
   "outputs": [
    {
     "name": "stdout",
     "output_type": "stream",
     "text": [
      "\n",
      "Summary:\n",
      "Number of Indicators Selected: 4\n",
      "Indicators: Physiological stress indicators, Cow Pain Scale (attention towards surroundings, head position, ear position, facial expression, response to approach, back position, lameness), Calving records (death of cow), Body condition scoring\n",
      "Total Hazards and Consequences Covered: 49\n",
      "Percentage Covered: 73.13%\n"
     ]
    }
   ],
   "source": [
    "print(\"\\nSummary:\")\n",
    "print(f\"Number of Indicators Selected: {len(selected_indicators)}\")\n",
    "print(f\"Indicators: {', '.join(selected_indicators)}\")\n",
    "print(f\"Total Hazards and Consequences Covered: {len(total_covered)}\")\n",
    "print(f\"Percentage Covered: {len(total_covered)/len(all_coverage)*100:.2f}%\")"
   ]
  },
  {
   "cell_type": "code",
   "execution_count": 23,
   "id": "80e04e9a-bd08-4fe0-8597-a7b8f5541dd1",
   "metadata": {},
   "outputs": [
    {
     "data": {
      "image/png": "[encoded data removed]",
      "text/plain": [
       "<Figure size 1000x600 with 1 Axes>"
      ]
     },
     "metadata": {},
     "output_type": "display_data"
    }
   ],
   "source": [
    "import matplotlib.pyplot as plt\n",
    "\n",
    "# Initialize variables\n",
    "selected_indicators = set()\n",
    "covered = set()\n",
    "coverage_progress = []  # Track cumulative coverage\n",
    "indicators_to_consider = list(indicator_coverage_map.keys())  # All indicators\n",
    "\n",
    "# Iteratively add indicators based on the greedy algorithm\n",
    "for _ in range(len(indicators_to_consider)):\n",
    "    # Select the indicator that covers the most uncovered elements\n",
    "    best_indicator = None\n",
    "    best_coverage = set()\n",
    "    for indicator in indicators_to_consider:\n",
    "        new_coverage = indicator_coverage_map[indicator] - covered\n",
    "        if len(new_coverage) > len(best_coverage):\n",
    "            best_coverage = new_coverage\n",
    "            best_indicator = indicator\n",
    "    if best_indicator is None:\n",
    "        break  # No more indicators to add\n",
    "    \n",
    "    # Add the selected indicator to the set\n",
    "    selected_indicators.add(best_indicator)\n",
    "    covered.update(best_coverage)\n",
    "    indicators_to_consider.remove(best_indicator)  # Exclude already selected indicators\n",
    "    \n",
    "    # Track cumulative coverage\n",
    "    coverage_progress.append(len(covered))\n",
    "\n",
    "# Add initial zero point for plot clarity\n",
    "coverage_progress = [0] + coverage_progress\n",
    "\n",
    "# Plot Coverage Progression\n",
    "plt.figure(figsize=(10, 6))\n",
    "plt.plot(range(len(coverage_progress)), coverage_progress, marker='o', label='Cumulative Coverage')\n",
    "plt.axhline(y=len(all_coverage), color='r', linestyle='--', label='Total Coverage (Baseline)')\n",
    "plt.title('Coverage Progression by Indicator Selection')\n",
    "plt.xlabel('Number of Indicators Selected')\n",
    "plt.ylabel('Cumulative Hazards + Consequences Covered')\n",
    "plt.xticks(range(0, len(coverage_progress), max(1, len(coverage_progress) // 10)))\n",
    "plt.yticks(range(0, len(all_coverage) + 1, max(1, len(all_coverage) // 10)))\n",
    "plt.legend()\n",
    "plt.grid()\n",
    "plt.show()\n",
    "\n"
   ]
  },
  {
   "cell_type": "markdown",
   "id": "3eba12f4-0e01-4d12-b020-b5912a22f623",
   "metadata": {},
   "source": [
    "## 1. Marginal Gain Analysis\n",
    "- Compute the marginal gain in coverage (additional hazards and consequences covered) for each additional indicator.\n",
    "- Stop adding indicators when the marginal gain falls below a certain threshold."
   ]
  },
  {
   "cell_type": "code",
   "execution_count": 28,
   "id": "caecbee4-ad1a-4dbe-a3d9-cbe8aa22a59b",
   "metadata": {},
   "outputs": [
    {
     "name": "stdout",
     "output_type": "stream",
     "text": [
      "Optimal number of indicators to select: 6\n"
     ]
    }
   ],
   "source": [
    "gain_threshold=3\n",
    "# Compute marginal gains\n",
    "marginal_gains = [coverage_progress[i] - coverage_progress[i - 1] for i in range(1, len(coverage_progress))]\n",
    "optimal_point = next((i + 1 for i, gain in enumerate(marginal_gains) if gain < gain_threshold), len(coverage_progress) - 1)\n",
    "\n",
    "print(f\"Optimal number of indicators to select: {optimal_point}\")"
   ]
  },
  {
   "cell_type": "markdown",
   "id": "22af1764-34ee-44be-b421-0d61bd43bac6",
   "metadata": {},
   "source": [
    "## 2. Cost-Benefit Ratio\n",
    "- Assign a cost (e.g., resources, time, or complexity) to each indicator.\n",
    "- Compute the benefit-to-cost ratio for each indicator.\n",
    "- Stop adding indicators when the ratio falls below a predefined threshold."
   ]
  },
  {
   "cell_type": "code",
   "execution_count": null,
   "id": "778c34d5-bd7b-4cbb-b220-cb87d76763cc",
   "metadata": {},
   "outputs": [],
   "source": [
    "costs = [indicator_cost_map[indicator] for indicator in selected_indicators]\n",
    "benefits = [coverage_progress[i] for i in range(len(coverage_progress))]\n",
    "ratios = [benefits[i] / costs[i] for i in range(len(costs))]\n",
    "\n",
    "optimal_point = next((i + 1 for i, ratio in enumerate(ratios) if ratio < 0.5), len(ratios))\n",
    "print(f\"Optimal number of indicators to select (cost-benefit): {optimal_point}\")"
   ]
  },
  {
   "cell_type": "markdown",
   "id": "6bac90d8-f2f9-4218-9812-d25ff46ecb0a",
   "metadata": {},
   "source": [
    "Pareto"
   ]
  },
  {
   "cell_type": "code",
   "execution_count": 32,
   "id": "6283ebe5-953f-4051-be04-1176d8dd1f15",
   "metadata": {},
   "outputs": [
    {
     "name": "stdout",
     "output_type": "stream",
     "text": [
      "Optimal number of indicators to select (knee/elbow point): 2\n"
     ]
    }
   ],
   "source": [
    "from kneed import KneeLocator\n",
    "\n",
    "# Use KneeLocator to find the elbow point\n",
    "knee_locator = KneeLocator(range(len(coverage_progress)), coverage_progress, curve=\"concave\", direction=\"increasing\")\n",
    "optimal_point = knee_locator.knee\n",
    "\n",
    "print(f\"Optimal number of indicators to select (knee/elbow point): {optimal_point}\")"
   ]
  },
  {
   "cell_type": "code",
   "execution_count": 48,
   "id": "e06ff8ae-adf3-43e9-8617-a419304c9575",
   "metadata": {},
   "outputs": [
    {
     "data": {
      "text/plain": [
       "<matplotlib.legend.Legend at 0x120525990>"
      ]
     },
     "execution_count": 48,
     "metadata": {},
     "output_type": "execute_result"
    },
    {
     "data": {
      "image/png": "[encoded data removed]",
      "text/plain": [
       "<Figure size 800x600 with 1 Axes>"
      ]
     },
     "metadata": {},
     "output_type": "display_data"
    }
   ],
   "source": [
    "import numpy as np\n",
    "\n",
    "np.random.seed(23)\n",
    "\n",
    "sensitivity = [1, 3, 5, 10]\n",
    "knees = []\n",
    "norm_knees = []\n",
    "\n",
    "y = coverage_progress\n",
    "n = len(y)\n",
    "x = range(1, n + 1)\n",
    "\n",
    "for s in sensitivity:\n",
    "    kl = KneeLocator(x, y, curve=\"convex\", direction=\"decreasing\", S=s)\n",
    "    knees.append(kl.knee)\n",
    "    norm_knees.append(kl.norm_knee)\n",
    "\n",
    "\n",
    "import matplotlib.pyplot as plt\n",
    "\n",
    "plt.style.use(\"ggplot\")\n",
    "plt.figure(figsize=(8, 6))\n",
    "plt.plot(kl.x_normalized, kl.y_normalized)\n",
    "plt.plot(kl.x_difference, kl.y_difference)\n",
    "colors = [\"r\", \"g\", \"k\", \"m\", \"c\", \"orange\"]\n",
    "for k, c, s in zip(norm_knees, colors, sensitivity):\n",
    "    plt.vlines(k, 0, 1, linestyles=\"--\", colors=c, label=f\"S = {s}\")\n",
    "plt.legend()"
   ]
  },
  {
   "cell_type": "code",
   "execution_count": 45,
   "id": "7be70261-4677-4367-a177-921a08d11463",
   "metadata": {},
   "outputs": [
    {
     "data": {
      "text/plain": [
       "[0, 36, 41, 45, 49, 52, 54, 56, 58, 60, 62, 63, 64, 65, 66, 67]"
      ]
     },
     "execution_count": 45,
     "metadata": {},
     "output_type": "execute_result"
    }
   ],
   "source": [
    "y"
   ]
  },
  {
   "cell_type": "code",
   "execution_count": 49,
   "id": "d2013b63-7b3c-46c9-98ed-d508a3875f5c",
   "metadata": {},
   "outputs": [
    {
     "data": {
      "text/plain": [
       "<matplotlib.legend.Legend at 0x120e1d850>"
      ]
     },
     "execution_count": 49,
     "metadata": {},
     "output_type": "execute_result"
    },
    {
     "data": {
      "image/png": "[encoded data removed]",
      "text/plain": [
       "<Figure size 800x600 with 1 Axes>"
      ]
     },
     "metadata": {},
     "output_type": "display_data"
    }
   ],
   "source": [
    "kl_online = KneeLocator(x, y, curve=\"convex\", direction=\"decreasing\", online=True)\n",
    "kl_offline = KneeLocator(x, y, curve=\"convex\", direction=\"decreasing\", online=False)\n",
    "\n",
    "import matplotlib.pyplot as plt\n",
    "\n",
    "plt.style.use(\"ggplot\")\n",
    "plt.figure(figsize=(8, 6))\n",
    "plt.plot(kl_online.x_normalized, kl_online.y_normalized)\n",
    "plt.plot(kl_online.x_difference, kl_online.y_difference)\n",
    "colors = [\"r\", \"g\"]\n",
    "for k, c, o in zip(\n",
    "    [kl_online.norm_knee, kl_offline.norm_knee], [\"r\", \"g\"], [\"online\", \"offline\"]\n",
    "):\n",
    "    plt.vlines(k, 0, 1, linestyles=\"--\", colors=c, label=o)\n",
    "plt.legend()"
   ]
  },
  {
   "cell_type": "code",
   "execution_count": 47,
   "id": "9f9be783-b31c-4d4c-8f46-558c6cef7562",
   "metadata": {},
   "outputs": [
    {
     "data": {
      "text/plain": [
       "39"
      ]
     },
     "execution_count": 47,
     "metadata": {},
     "output_type": "execute_result"
    }
   ],
   "source": [
    "len(indicators_to_consider)"
   ]
  },
  {
   "cell_type": "code",
   "execution_count": null,
   "id": "19186bff-2426-4677-b164-d8136d3b2a4d",
   "metadata": {},
   "outputs": [],
   "source": []
  }
 ],
 "metadata": {
  "kernelspec": {
   "display_name": "Python 3 (ipykernel)",
   "language": "python",
   "name": "python3"
  },
  "language_info": {
   "codemirror_mode": {
    "name": "ipython",
    "version": 3
   },
   "file_extension": ".py",
   "mimetype": "text/x-python",
   "name": "python",
   "nbconvert_exporter": "python",
   "pygments_lexer": "ipython3",
   "version": "3.11.8"
  }
 },
 "nbformat": 4,
 "nbformat_minor": 5
}
